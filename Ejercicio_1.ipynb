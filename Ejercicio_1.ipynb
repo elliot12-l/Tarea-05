{
  "nbformat": 4,
  "nbformat_minor": 0,
  "metadata": {
    "colab": {
      "provenance": []
    },
    "kernelspec": {
      "name": "python3",
      "display_name": "Python 3"
    },
    "language_info": {
      "name": "python"
    }
  },
  "cells": [
    {
      "cell_type": "code",
      "source": [
        "import numpy as np\n",
        "\n",
        "# Método de Newton\n",
        "def newton_method(f, df, x0, tol=1e-5, max_iter=100):\n",
        "    x = x0\n",
        "    for i in range(max_iter):\n",
        "        fx = f(x)\n",
        "        dfx = df(x)\n",
        "        if dfx == 0:\n",
        "            raise ValueError(\"La derivada se hizo cero\")\n",
        "        x_new = x - fx / dfx\n",
        "        if abs(x_new - x) < tol:\n",
        "            return x_new\n",
        "        x = x_new\n",
        "    raise ValueError(\"El método de Newton no convergió\")\n",
        "\n",
        "# Problema a: -(x)^3 - np.cos(x) = 0\n",
        "f_a = lambda x: -(x)**3 - np.cos(x)\n",
        "df_a = lambda x: -3 * (x)**2 + np.sin(x)\n",
        "\n",
        "# Solución para el problema a\n",
        "x0_a = -1.0  # Valor inicial para Newton\n",
        "\n",
        "\n",
        "try:\n",
        "    sol_a_newton = newton_method(f_a, df_a, x0_a)\n",
        "    print(\"Problema a: -(x)^3 - cos(x) = 0\")\n",
        "    print(f\"Método de Newton: x = {sol_a_newton:}\")\n",
        "\n",
        "except ValueError as e:\n",
        "    print(e)\n",
        "\n",
        "def f(x):\n",
        "    return -x**3 - np.cos(x)\n",
        "\n",
        "def secant_method(f, x0, x1, tol=1e-5, max_iter=100):\n",
        "    for _ in range(max_iter):\n",
        "        fx0 = f(x0)\n",
        "        fx1 = f(x1)\n",
        "\n",
        "        if abs(fx1 - fx0) < tol:\n",
        "            print(\"Cambio en función demasiado pequeño, puede que no converja\")\n",
        "            return None\n",
        "\n",
        "        x2 = x1 - fx1 * (x1 - x0) / (fx1 - fx0)\n",
        "\n",
        "        if abs(x2 - x1) < tol:\n",
        "            return x2\n",
        "\n",
        "        x0, x1 = x1, x2\n",
        "\n",
        "    print(\"El método no convergió en el número máximo de iteraciones\")\n",
        "    return None\n",
        "\n",
        "# Aproximaciones iniciales\n",
        "x0 = -1\n",
        "x1 = -0.9\n",
        "\n",
        "# Encontrar la raíz\n",
        "raiz = secant_method(f, x0, x1)\n",
        "print(f\"Método de la Secante: x = {raiz}\")\n"
      ],
      "metadata": {
        "id": "fw-M2HKbxV-k"
      },
      "execution_count": null,
      "outputs": []
    }
  ]
}