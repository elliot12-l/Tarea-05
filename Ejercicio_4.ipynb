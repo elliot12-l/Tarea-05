{
 "cells": [
  {
   "cell_type": "raw",
   "id": "756a1f52-487d-4c28-a9a7-be70310f86b6",
   "metadata": {},
   "source": [
    "---\n",
    "lang: es\n",
    "format: \n",
    "  pdf: \n",
    "    cite-method: biblatex\n",
    "    number-sections: false\n",
    "    lof: false\n",
    "    lot: false\n",
    "    fontfamily: fontenc\n",
    "    font-type: ptm\n",
    "    colorlinks: true\n",
    "    pagestyle: empty\n",
    "    geometry: \"left=3cm, right=2cm, top=2cm, bottom=2cm, marginparwidth=2cm\"\n",
    "    documentclass: article\n",
    "    header-includes:\n",
    "      - \\usepackage{titling}\n",
    "      - \\setlength{\\droptitle}{-5em}\n",
    "execute:\n",
    "    echo: true\n",
    "    error: false\n",
    "    warning: false\n",
    "jupyter: python3\n",
    "bibliography: ref.bib\n",
    "link-citations: true\n",
    "---"
   ]
  },
  {
   "cell_type": "markdown",
   "id": "123dfd0d-3fb6-44fa-809d-e737d114ca17",
   "metadata": {},
   "source": [
    "## Tarea 05 - Método de Newton y de la Secante\n",
    "### Conjunto de Ejercicios"
   ]
  },
  {
   "cell_type": "markdown",
   "id": "4c4cffaa-f1a4-485c-bcb4-1a9a4d6f1d16",
   "metadata": {},
   "source": [
    "\\textbf{4. } El polinomio de cuarto grado $f(x)=230x^{4}+18x^{3}+9x^{2}-221x-9$ tienen dos ceros reales, uno en $[-0.04066,0]$ y el otro en $[0.96240,0]$.  "
   ]
  },
  {
   "cell_type": "markdown",
   "id": "8344f507-e822-4161-940c-af1b23692a55",
   "metadata": {},
   "source": [
    "El gráfico que confirman los ceros de nuestro polinomio es el siguiente: "
   ]
  },
  {
   "cell_type": "markdown",
   "id": "06eb393b-919e-4b9d-b619-1265b0e13282",
   "metadata": {},
   "source": [
    "![Ceros de la función f(x).](graf04.png){width=70%}"
   ]
  },
  {
   "cell_type": "markdown",
   "id": "bbc4b90f-90c5-451d-b3bf-d7cd72768db1",
   "metadata": {},
   "source": [
    "Intente aproximar estos ceros dentro de $10^{-6}$ con:  \n",
    "a. El método de la secante (use los extremos como las estimaciones iniciales)"
   ]
  },
  {
   "cell_type": "markdown",
   "id": "6cd884b8-e2ce-470c-91f3-7281d521410b",
   "metadata": {},
   "source": [
    "Para este método utilizamos los siguientes valores: $x_{0}=-0.04066, x_{1}=0.96240$ y $ tol = 1\\times10^{-6}$. Con estos valores el método de la secante convergió al valor de $0.9623984188121368$ luego de 5 iteraciones."
   ]
  },
  {
   "cell_type": "markdown",
   "id": "bf8d21ac-0e2d-4e0c-bc0e-4de182989f29",
   "metadata": {},
   "source": [
    "b. El método de Newton (use el punto medio como estimación inicial)"
   ]
  },
  {
   "cell_type": "markdown",
   "id": "7f38e79d-4567-4acc-8161-0f4d336481b8",
   "metadata": {},
   "source": [
    "Para este método utilizamos los siguientes valores: $x_{m}=\\dfrac{x_{0}+x_{1}}{2}=0.92174, f'(x)=920x^{3}+54x^{2}+18x-221, tol = 1\\times10^{-6}$ y $N = 1000$. Con estos valores el método de Newton-Raphson convergió al valor de $-0.040659288315758865$ luego de 5 iteraciones."
   ]
  },
  {
   "cell_type": "markdown",
   "id": "4a0d8cb6-81c9-465d-87db-9092b0b5fcc2",
   "metadata": {},
   "source": [
    "Como se puede observar cada método nos converge a un cero distinto, esto se debe a la forma en que toma sus estimaciones iniciales y a que cero se encuentra más cerca al momento de realizar su primera iteración."
   ]
  },
  {
   "cell_type": "code",
   "execution_count": null,
   "id": "76a5b492-becf-4064-81a0-2eaa69ddf937",
   "metadata": {},
   "outputs": [],
   "source": []
  }
 ],
 "metadata": {
  "kernelspec": {
   "display_name": "Python 3 (ipykernel)",
   "language": "python",
   "name": "python3"
  },
  "language_info": {
   "codemirror_mode": {
    "name": "ipython",
    "version": 3
   },
   "file_extension": ".py",
   "mimetype": "text/x-python",
   "name": "python",
   "nbconvert_exporter": "python",
   "pygments_lexer": "ipython3",
   "version": "3.11.7"
  }
 },
 "nbformat": 4,
 "nbformat_minor": 5
}
