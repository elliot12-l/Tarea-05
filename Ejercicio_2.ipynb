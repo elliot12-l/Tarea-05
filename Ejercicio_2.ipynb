{
  "nbformat": 4,
  "nbformat_minor": 0,
  "metadata": {
    "colab": {
      "provenance": []
    },
    "kernelspec": {
      "name": "python3",
      "display_name": "Python 3"
    },
    "language_info": {
      "name": "python"
    }
  },
  "cells": [
    {
      "cell_type": "code",
      "source": [
        "from typing import Callable\n",
        "import numpy as np\n",
        "\n",
        "def newton_raphson(\n",
        "    x0: float,\n",
        "    equation: Callable[[float], float],\n",
        "    derivative: Callable[[float], float],\n",
        "    tol: float,\n",
        "    N: int\n",
        ") -> float:\n",
        "    \"\"\"\n",
        "    Método de Newton-Raphson para encontrar la raíz de una ecuación no lineal.\n",
        "\n",
        "    Parameters:\n",
        "    x0 (float): Valor inicial para la iteración.\n",
        "    equation (Callable[[float], float]): La función de la cual se desea encontrar la raíz.\n",
        "    derivative (Callable[[float], float]): La derivada de la función.\n",
        "    tol (float): Tolerancia para la convergencia.\n",
        "    N (int): Número máximo de iteraciones.\n",
        "\n",
        "    Returns:\n",
        "    float: Aproximación a la raíz de la función.\n",
        "    \"\"\"\n",
        "    x = x0\n",
        "    for i in range(N):\n",
        "        fx = equation(x)\n",
        "        dfx = derivative(x)\n",
        "\n",
        "        if dfx == 0:\n",
        "            raise ValueError(\"La derivada es cero en x = {0}. El método de Newton-Raphson falla.\".format(x))\n",
        "\n",
        "        x_new = x - fx / dfx\n",
        "\n",
        "        if abs(x_new - x) < tol:\n",
        "            return x_new\n",
        "\n",
        "        x = x_new\n",
        "\n",
        "    raise ValueError(\"El método de Newton-Raphson no convergió después de {0} iteraciones.\".format(N))\n",
        "\n",
        "# Definición de las funciones y sus derivadas para cada problema\n",
        "def f_a(x):\n",
        "    return x**3 - 2*x**2 - 5\n",
        "\n",
        "def df_a(x):\n",
        "    return 3*x**2 - 4*x\n",
        "\n",
        "def f_b(x):\n",
        "    return x**3 + 3*x**2 - 1\n",
        "\n",
        "def df_b(x):\n",
        "    return 3*x**2 + 6*x\n",
        "\n",
        "def f_c(x):\n",
        "    return x - np.cos(x)\n",
        "\n",
        "def df_c(x):\n",
        "    return 1 + np.sin(x)\n",
        "\n",
        "def f_d(x):\n",
        "    return x - 0.8 - 0.2 * np.sin(x)\n",
        "\n",
        "def df_d(x):\n",
        "    return 1 - 0.2 * np.cos(x)\n",
        "\n",
        "# Parámetros comunes\n",
        "x0 = 1.0\n",
        "tolerancia = 1e-4\n",
        "max_iteraciones = 1000\n",
        "\n",
        "# Solución de los problemas usando el método de Newton-Raphson\n",
        "# Problema a\n",
        "raiz_a = newton_raphson(x0, f_a, df_a, tolerancia, max_iteraciones)\n",
        "print(\"Problema a (Newton-Raphson):\", raiz_a)\n",
        "\n",
        "# Problema b\n",
        "raiz_b = newton_raphson(-3, f_b, df_b, tolerancia, max_iteraciones)\n",
        "print(\"Problema b (Newton-Raphson):\", raiz_b)\n",
        "\n",
        "# Problema c\n",
        "raiz_c = newton_raphson(0, f_c, df_c, tolerancia, max_iteraciones)\n",
        "print(\"Problema c (Newton-Raphson):\", raiz_c)\n",
        "\n",
        "# Problema d\n",
        "raiz_d = newton_raphson(0, f_d, df_d, tolerancia, max_iteraciones)\n",
        "print(\"Problema d (Newton-Raphson):\", raiz_d)\n"
      ],
      "metadata": {
        "id": "N68xNeZ_j4Sb",
        "outputId": "8dc5a33d-a338-4461-fee0-1e6aecc4f15b",
        "colab": {
          "base_uri": "https://localhost:8080/"
        }
      },
      "execution_count": 17,
      "outputs": [
        {
          "output_type": "stream",
          "name": "stdout",
          "text": [
            "Problema a (Newton-Raphson): 2.6906474480286287\n",
            "Problema b (Newton-Raphson): -2.8793852448366706\n",
            "Problema c (Newton-Raphson): 0.739085133385284\n",
            "Problema d (Newton-Raphson): 0.9643338876952227\n"
          ]
        }
      ]
    },
    {
      "cell_type": "code",
      "source": [
        "from scipy.optimize import newton\n",
        "import numpy as np\n",
        "\n",
        "# Definición de las funciones para cada problema\n",
        "\n",
        "def f_a(x):\n",
        "    return x**3 - 2*x**2 - 5\n",
        "\n",
        "def f_b(x):\n",
        "    return x**3 + 3*x**2 - 1\n",
        "\n",
        "def f_c(x):\n",
        "    return x - np.cos(x)\n",
        "\n",
        "def f_d(x):\n",
        "    return x - 0.8 - 0.2 * np.sin(x)\n",
        "\n",
        "# Parámetros comunes\n",
        "tolerance = 1e-4\n",
        "\n",
        "# Solución de los problemas usando el método de la secante\n",
        "# Problema a\n",
        "r_a = newton(func=f_a, x0=1, x1=4, tol=tolerance, full_output=True)\n",
        "print(\"Problema a (Secante):\", r_a)\n",
        "\n",
        "# Problema b\n",
        "r_b = newton(func=f_b, x0=-3, x1=-2, tol=tolerance, full_output=True)\n",
        "print(\"Problema b (Secante):\", r_b)\n",
        "\n",
        "# Problema c\n",
        "r_c = newton(func=f_c, x0=0, x1=np.pi/2, tol=tolerance, full_output=True)\n",
        "print(\"Problema c (Secante):\", r_c)\n",
        "\n",
        "# Problema d\n",
        "r_d = newton(func=f_d, x0=0, x1=np.pi/2, tol=tolerance, full_output=True)\n",
        "print(\"Problema d (Secante):\", r_d)\n"
      ],
      "metadata": {
        "id": "pum5WTHxkTbV",
        "outputId": "dc733c6a-7c54-4f7b-b61f-6b010dd23670",
        "colab": {
          "base_uri": "https://localhost:8080/"
        }
      },
      "execution_count": 18,
      "outputs": [
        {
          "output_type": "stream",
          "name": "stdout",
          "text": [
            "Problema a (Secante): (2.6906474478837734,       converged: True\n",
            "           flag: converged\n",
            " function_calls: 11\n",
            "     iterations: 10\n",
            "           root: 2.6906474478837734)\n",
            "Problema b (Secante): (-2.879385194736809,       converged: True\n",
            "           flag: converged\n",
            " function_calls: 7\n",
            "     iterations: 6\n",
            "           root: -2.879385194736809)\n",
            "Problema c (Secante): (0.739085133034638,       converged: True\n",
            "           flag: converged\n",
            " function_calls: 6\n",
            "     iterations: 5\n",
            "           root: 0.739085133034638)\n",
            "Problema d (Secante): (0.9643338835706312,       converged: True\n",
            "           flag: converged\n",
            " function_calls: 5\n",
            "     iterations: 4\n",
            "           root: 0.9643338835706312)\n"
          ]
        }
      ]
    }
  ]
}