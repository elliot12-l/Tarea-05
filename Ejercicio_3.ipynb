{
  "nbformat": 4,
  "nbformat_minor": 0,
  "metadata": {
    "colab": {
      "provenance": []
    },
    "kernelspec": {
      "name": "python3",
      "display_name": "Python 3"
    },
    "language_info": {
      "name": "python"
    }
  },
  "cells": [
    {
      "cell_type": "code",
      "source": [
        "import numpy as np\n",
        "\n",
        "# Método de Newton\n",
        "def newton_method(f, df, x0, tol=1e-5, max_iter=100):\n",
        "    x = x0\n",
        "    for i in range(max_iter):\n",
        "        x_new = x - f(x) / df(x)\n",
        "        if abs(x_new - x) < tol:\n",
        "            return x_new\n",
        "        x = x_new\n",
        "    raise ValueError(\"El método de Newton no convergió\")\n",
        "\n",
        "# Método de la Secante\n",
        "def secant_method(f, x0, x1, tol=1e-5, max_iter=100):\n",
        "    for i in range(max_iter):\n",
        "        if abs(f(x1) - f(x0)) < tol:\n",
        "            raise ValueError(\"División por cero en el método de la secante\")\n",
        "        x_new = x1 - f(x1) * (x1 - x0) / (f(x1) - f(x0))\n",
        "        if abs(x_new - x1) < tol:\n",
        "            return x_new\n",
        "        x0, x1 = x1, x_new\n",
        "    raise ValueError(\"El método de la secante no convergió\")\n",
        "\n",
        "# Problema a\n",
        "f_a = lambda x: 3*x - np.exp(x)\n",
        "df_a = lambda x: 3 - np.exp(x)\n",
        "\n",
        "# Problema b\n",
        "f_b = lambda x: 2*x + 3 * np.cos(x) - np.exp(x)\n",
        "df_b = lambda x: 2 - 3 * np.sin(x) - np.exp(x)\n",
        "\n",
        "# Soluciones para el problema a\n",
        "x0_a = 1.0  # Valor inicial para Newton\n",
        "x1_a = 1.0  # Primer valor inicial para Secante\n",
        "x2_a = 2.0  # Segundo valor inicial para Secante\n",
        "\n",
        "sol_a_newton = newton_method(f_a, df_a, x0_a)\n",
        "sol_a_secant = secant_method(f_a, x1_a, x2_a)\n",
        "\n",
        "# Soluciones para el problema b\n",
        "x0_b = 1.0  # Valor inicial para Newton\n",
        "x1_b = 1.0  # Primer valor inicial para Secante\n",
        "x2_b = 2.0  # Segundo valor inicial para Secante\n",
        "\n",
        "sol_b_newton = newton_method(f_b, df_b, x0_b)\n",
        "sol_b_secant = secant_method(f_b, x1_b, x2_b)\n",
        "\n",
        "# Imprimir los resultados\n",
        "print(\"Problema a: 3x - e^x = 0\")\n",
        "print(f\"  Método de Newton: x = {sol_a_newton:.5f}\")\n",
        "print(f\"  Método de la Secante: x = {sol_a_secant:.5f}\")\n",
        "\n",
        "print(\"\\nProblema b: 2x + 3 cos x - e^x = 0\")\n",
        "print(f\"  Método de Newton: x = {sol_b_newton:.5f}\")\n",
        "print(f\"  Método de la Secante: x = {sol_b_secant:.5f}\")"
      ],
      "metadata": {
        "id": "fw-M2HKbxV-k"
      },
      "execution_count": null,
      "outputs": []
    }
  ]
}