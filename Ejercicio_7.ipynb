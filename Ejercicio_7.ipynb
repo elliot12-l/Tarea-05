{
  "nbformat": 4,
  "nbformat_minor": 0,
  "metadata": {
    "colab": {
      "provenance": []
    },
    "kernelspec": {
      "name": "python3",
      "display_name": "Python 3"
    },
    "language_info": {
      "name": "python"
    }
  },
  "cells": [
    {
      "cell_type": "markdown",
      "source": [
        "## Definir las funciones de x y su derivada"
      ],
      "metadata": {
        "id": "2jqcPAUoyszP"
      }
    },
    {
      "cell_type": "code",
      "source": [
        "import numpy as np\n",
        "from scipy.optimize import newton, root_scalar"
      ],
      "metadata": {
        "id": "JJFxBdtxFlYY"
      },
      "execution_count": null,
      "outputs": []
    },
    {
      "cell_type": "code",
      "source": [
        "# Define the function\n",
        "def f(x):\n",
        "    print(f\"{x:.3f}\")\n",
        "    return np.cbrt(x)\n",
        "\n",
        "# Define the derivative for Newton's method\n",
        "def df(x):\n",
        "    return 1/(3*np.cbrt(x**2))"
      ],
      "metadata": {
        "id": "aLFiE4pLFmcZ"
      },
      "execution_count": null,
      "outputs": []
    },
    {
      "cell_type": "markdown",
      "source": [
        "## Establecer las estimaciones iniciales"
      ],
      "metadata": {
        "id": "nQbuN1Cmyt7_"
      }
    },
    {
      "cell_type": "code",
      "source": [
        "# Initial guess for Newton's method\n",
        "x0_newton = 0.4\n",
        "\n",
        "# Initial guesses for the Secant method\n",
        "p0_secant = 0.2\n",
        "p1_secant = 0.5"
      ],
      "metadata": {
        "id": "Gz5MJ50kFn1Y"
      },
      "execution_count": null,
      "outputs": []
    },
    {
      "cell_type": "markdown",
      "source": [
        "## Metodo de newton\n"
      ],
      "metadata": {
        "id": "Qkrd4j0FyzDd"
      }
    },
    {
      "cell_type": "code",
      "source": [
        "newton(f, x0=x0_newton, fprime=df, full_output=True)"
      ],
      "metadata": {
        "colab": {
          "base_uri": "https://localhost:8080/",
          "height": 1000
        },
        "id": "HSSbI_4eIATj",
        "outputId": "b7251d74-a586-4899-8989-191776116784"
      },
      "execution_count": null,
      "outputs": [
        {
          "output_type": "stream",
          "name": "stdout",
          "text": [
            "0.400\n",
            "-0.800\n",
            "1.600\n",
            "-3.200\n",
            "6.400\n",
            "-12.800\n",
            "25.600\n",
            "-51.200\n",
            "102.400\n",
            "-204.800\n",
            "409.600\n",
            "-819.200\n",
            "1638.400\n",
            "-3276.800\n",
            "6553.600\n",
            "-13107.200\n",
            "26214.400\n",
            "-52428.800\n",
            "104857.600\n",
            "-209715.200\n",
            "419430.400\n",
            "-838860.800\n",
            "1677721.600\n",
            "-3355443.200\n",
            "6710886.400\n",
            "-13421772.800\n",
            "26843545.600\n",
            "-53687091.200\n",
            "107374182.400\n",
            "-214748364.800\n",
            "429496729.600\n",
            "-858993459.200\n",
            "1717986918.400\n",
            "-3435973836.800\n",
            "6871947673.600\n",
            "-13743895347.200\n",
            "27487790694.400\n",
            "-54975581388.800\n",
            "109951162777.600\n",
            "-219902325555.200\n",
            "439804651110.400\n",
            "-879609302220.801\n",
            "1759218604441.602\n",
            "-3518437208883.204\n",
            "7036874417766.407\n",
            "-14073748835532.816\n",
            "28147497671065.629\n",
            "-56294995342131.266\n",
            "112589990684262.516\n",
            "-225179981368525.062\n"
          ]
        },
        {
          "output_type": "error",
          "ename": "RuntimeError",
          "evalue": "Failed to converge after 50 iterations, value is 450359962737050.06.",
          "traceback": [
            "\u001b[0;31m---------------------------------------------------------------------------\u001b[0m",
            "\u001b[0;31mRuntimeError\u001b[0m                              Traceback (most recent call last)",
            "\u001b[0;32m<ipython-input-24-de889f0e2e9d>\u001b[0m in \u001b[0;36m<cell line: 1>\u001b[0;34m()\u001b[0m\n\u001b[0;32m----> 1\u001b[0;31m \u001b[0mnewton\u001b[0m\u001b[0;34m(\u001b[0m\u001b[0mf\u001b[0m\u001b[0;34m,\u001b[0m \u001b[0mx0\u001b[0m\u001b[0;34m=\u001b[0m\u001b[0mx0_newton\u001b[0m\u001b[0;34m,\u001b[0m \u001b[0mfprime\u001b[0m\u001b[0;34m=\u001b[0m\u001b[0mdf\u001b[0m\u001b[0;34m,\u001b[0m \u001b[0mfull_output\u001b[0m\u001b[0;34m=\u001b[0m\u001b[0;32mTrue\u001b[0m\u001b[0;34m)\u001b[0m\u001b[0;34m\u001b[0m\u001b[0;34m\u001b[0m\u001b[0m\n\u001b[0m",
            "\u001b[0;32m/usr/local/lib/python3.10/dist-packages/scipy/optimize/_zeros_py.py\u001b[0m in \u001b[0;36mnewton\u001b[0;34m(func, x0, fprime, args, tol, maxiter, fprime2, x1, rtol, full_output, disp)\u001b[0m\n\u001b[1;32m    382\u001b[0m         msg = (\"Failed to converge after %d iterations, value is %s.\"\n\u001b[1;32m    383\u001b[0m                % (itr + 1, p))\n\u001b[0;32m--> 384\u001b[0;31m         \u001b[0;32mraise\u001b[0m \u001b[0mRuntimeError\u001b[0m\u001b[0;34m(\u001b[0m\u001b[0mmsg\u001b[0m\u001b[0;34m)\u001b[0m\u001b[0;34m\u001b[0m\u001b[0;34m\u001b[0m\u001b[0m\n\u001b[0m\u001b[1;32m    385\u001b[0m \u001b[0;34m\u001b[0m\u001b[0m\n\u001b[1;32m    386\u001b[0m     \u001b[0;32mreturn\u001b[0m \u001b[0m_results_select\u001b[0m\u001b[0;34m(\u001b[0m\u001b[0mfull_output\u001b[0m\u001b[0;34m,\u001b[0m \u001b[0;34m(\u001b[0m\u001b[0mp\u001b[0m\u001b[0;34m,\u001b[0m \u001b[0mfuncalls\u001b[0m\u001b[0;34m,\u001b[0m \u001b[0mitr\u001b[0m \u001b[0;34m+\u001b[0m \u001b[0;36m1\u001b[0m\u001b[0;34m,\u001b[0m \u001b[0m_ECONVERR\u001b[0m\u001b[0;34m)\u001b[0m\u001b[0;34m)\u001b[0m\u001b[0;34m\u001b[0m\u001b[0;34m\u001b[0m\u001b[0m\n",
            "\u001b[0;31mRuntimeError\u001b[0m: Failed to converge after 50 iterations, value is 450359962737050.06."
          ]
        }
      ]
    },
    {
      "cell_type": "markdown",
      "source": [
        "## Metodo de la Secante"
      ],
      "metadata": {
        "id": "xNLgEVIKy23a"
      }
    },
    {
      "cell_type": "code",
      "source": [
        "newton(f, x0=p0_secant,full_output=True, x1=p1_secant) #Secante"
      ],
      "metadata": {
        "colab": {
          "base_uri": "https://localhost:8080/",
          "height": 1000
        },
        "id": "8ICkd1GsIBKx",
        "outputId": "b938c962-ae94-4c2a-ff29-9457a3aec734"
      },
      "execution_count": null,
      "outputs": [
        {
          "output_type": "stream",
          "name": "stdout",
          "text": [
            "0.200\n",
            "0.500\n",
            "-0.640\n",
            "-0.047\n",
            "0.378\n",
            "0.095\n",
            "-0.389\n",
            "-0.091\n",
            "0.387\n",
            "0.092\n",
            "-0.388\n",
            "-0.091\n",
            "0.388\n",
            "0.091\n",
            "-0.388\n",
            "-0.091\n",
            "0.388\n",
            "0.091\n",
            "-0.388\n",
            "-0.091\n",
            "0.388\n",
            "0.091\n",
            "-0.388\n",
            "-0.091\n",
            "0.388\n",
            "0.091\n",
            "-0.388\n",
            "-0.091\n",
            "0.388\n",
            "0.091\n",
            "-0.388\n",
            "-0.091\n",
            "0.388\n",
            "0.091\n",
            "-0.388\n",
            "-0.091\n",
            "0.388\n",
            "0.091\n",
            "-0.388\n",
            "-0.091\n",
            "0.388\n",
            "0.091\n",
            "-0.388\n",
            "-0.091\n",
            "0.388\n",
            "0.091\n",
            "-0.388\n",
            "-0.091\n",
            "0.388\n",
            "0.091\n",
            "-0.388\n",
            "-0.091\n"
          ]
        },
        {
          "output_type": "error",
          "ename": "RuntimeError",
          "evalue": "Failed to converge after 50 iterations, value is -0.09149027518983306.",
          "traceback": [
            "\u001b[0;31m---------------------------------------------------------------------------\u001b[0m",
            "\u001b[0;31mRuntimeError\u001b[0m                              Traceback (most recent call last)",
            "\u001b[0;32m<ipython-input-25-0d9f72c830c3>\u001b[0m in \u001b[0;36m<cell line: 1>\u001b[0;34m()\u001b[0m\n\u001b[0;32m----> 1\u001b[0;31m \u001b[0mnewton\u001b[0m\u001b[0;34m(\u001b[0m\u001b[0mf\u001b[0m\u001b[0;34m,\u001b[0m \u001b[0mx0\u001b[0m\u001b[0;34m=\u001b[0m\u001b[0mp0_secant\u001b[0m\u001b[0;34m,\u001b[0m\u001b[0mfull_output\u001b[0m\u001b[0;34m=\u001b[0m\u001b[0;32mTrue\u001b[0m\u001b[0;34m,\u001b[0m \u001b[0mx1\u001b[0m\u001b[0;34m=\u001b[0m\u001b[0mp1_secant\u001b[0m\u001b[0;34m)\u001b[0m \u001b[0;31m#Secante\u001b[0m\u001b[0;34m\u001b[0m\u001b[0;34m\u001b[0m\u001b[0m\n\u001b[0m",
            "\u001b[0;32m/usr/local/lib/python3.10/dist-packages/scipy/optimize/_zeros_py.py\u001b[0m in \u001b[0;36mnewton\u001b[0;34m(func, x0, fprime, args, tol, maxiter, fprime2, x1, rtol, full_output, disp)\u001b[0m\n\u001b[1;32m    382\u001b[0m         msg = (\"Failed to converge after %d iterations, value is %s.\"\n\u001b[1;32m    383\u001b[0m                % (itr + 1, p))\n\u001b[0;32m--> 384\u001b[0;31m         \u001b[0;32mraise\u001b[0m \u001b[0mRuntimeError\u001b[0m\u001b[0;34m(\u001b[0m\u001b[0mmsg\u001b[0m\u001b[0;34m)\u001b[0m\u001b[0;34m\u001b[0m\u001b[0;34m\u001b[0m\u001b[0m\n\u001b[0m\u001b[1;32m    385\u001b[0m \u001b[0;34m\u001b[0m\u001b[0m\n\u001b[1;32m    386\u001b[0m     \u001b[0;32mreturn\u001b[0m \u001b[0m_results_select\u001b[0m\u001b[0;34m(\u001b[0m\u001b[0mfull_output\u001b[0m\u001b[0;34m,\u001b[0m \u001b[0;34m(\u001b[0m\u001b[0mp\u001b[0m\u001b[0;34m,\u001b[0m \u001b[0mfuncalls\u001b[0m\u001b[0;34m,\u001b[0m \u001b[0mitr\u001b[0m \u001b[0;34m+\u001b[0m \u001b[0;36m1\u001b[0m\u001b[0;34m,\u001b[0m \u001b[0m_ECONVERR\u001b[0m\u001b[0;34m)\u001b[0m\u001b[0;34m)\u001b[0m\u001b[0;34m\u001b[0m\u001b[0;34m\u001b[0m\u001b[0m\n",
            "\u001b[0;31mRuntimeError\u001b[0m: Failed to converge after 50 iterations, value is -0.09149027518983306."
          ]
        }
      ]
    }
  ]
}